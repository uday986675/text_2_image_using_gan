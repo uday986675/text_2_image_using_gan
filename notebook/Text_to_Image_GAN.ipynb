{
  "cells": [
    {
      "cell_type": "code",
      "execution_count": null,
      "id": "5d9181de",
      "metadata": {
        "id": "5d9181de"
      },
      "outputs": [],
      "source": [
        "# Install dependencies\n",
        "!pip install torch torchvision transformers tqdm pillow scipy numpy matplotlib torchmetrics\n"
      ]
    },
    {
      "cell_type": "code",
      "execution_count": null,
      "id": "59d5ea65",
      "metadata": {
        "id": "59d5ea65"
      },
      "outputs": [],
      "source": [
        "# Import libraries\n",
        "import torch, torchvision\n",
        "from torch import nn, optim\n",
        "from torch.utils.data import Dataset, DataLoader\n",
        "from torchvision import transforms\n",
        "from torchvision.utils import make_grid, save_image\n",
        "import numpy as np, matplotlib.pyplot as plt, os\n",
        "from tqdm import tqdm\n",
        "from transformers import BertTokenizer, BertModel\n",
        "from PIL import Image\n",
        "from scipy.io import loadmat\n"
      ]
    },
    {
      "cell_type": "code",
      "execution_count": null,
      "id": "ec6f11ec",
      "metadata": {
        "id": "ec6f11ec"
      },
      "outputs": [],
      "source": [
        "# Configuration\n",
        "device = torch.device('cuda' if torch.cuda.is_available() else 'cpu')\n",
        "IMG_SIZE = 64\n",
        "BATCH_SIZE = 32\n",
        "EPOCHS = 10\n",
        "LR = 2e-4\n",
        "Z_DIM = 100\n",
        "EMBED_DIM = 768  # BERT base hidden size\n",
        "DATA_PATH = '/content/drive/MyDrive/flowers/jpg/'  # update this path if different\n",
        "LABEL_PATH = '/content/drive/MyDrive/flowers/imagelabels.mat'\n"
      ]
    },
    {
      "cell_type": "code",
      "execution_count": null,
      "id": "88345d39",
      "metadata": {
        "id": "88345d39"
      },
      "outputs": [],
      "source": [
        "# Dataset: Oxford Flowers\n",
        "class FlowersDataset(Dataset):\n",
        "    def __init__(self, img_folder, label_path, transform=None, tokenizer=None, bert_model=None):\n",
        "        self.img_folder = img_folder\n",
        "        self.transform = transform\n",
        "        self.tokenizer = tokenizer\n",
        "        self.bert = bert_model\n",
        "        self.labels = loadmat(label_path)['labels'][0]\n",
        "        self.imgs = sorted([os.path.join(img_folder, x) for x in os.listdir(img_folder) if x.endswith('.jpg')])\n",
        "\n",
        "    def __len__(self):\n",
        "        return len(self.imgs)\n",
        "\n",
        "    def __getitem__(self, idx):\n",
        "        img_path = self.imgs[idx]\n",
        "        image = Image.open(img_path).convert('RGB')\n",
        "        if self.transform:\n",
        "            image = self.transform(image)\n",
        "        caption = f\"A photo of a flower of class {self.labels[idx]}\"\n",
        "        tokens = self.tokenizer(caption, return_tensors='pt', truncation=True, padding='max_length', max_length=16)\n",
        "        with torch.no_grad():\n",
        "            emb = self.bert(**tokens.to(device)).last_hidden_state.mean(dim=1).squeeze(0)\n",
        "        return emb, image\n"
      ]
    },
    {
      "cell_type": "code",
      "execution_count": null,
      "id": "81a5abad",
      "metadata": {
        "id": "81a5abad"
      },
      "outputs": [],
      "source": [
        "tokenizer = BertTokenizer.from_pretrained('bert-base-uncased')\n",
        "bert_model = BertModel.from_pretrained('bert-base-uncased').to(device)\n",
        "\n",
        "transform = transforms.Compose([\n",
        "    transforms.Resize((IMG_SIZE, IMG_SIZE)),\n",
        "    transforms.ToTensor(),\n",
        "    transforms.Normalize([0.5]*3, [0.5]*3)\n",
        "])\n",
        "\n",
        "dataset = FlowersDataset(DATA_PATH, LABEL_PATH, transform, tokenizer, bert_model)\n",
        "loader = DataLoader(dataset, batch_size=BATCH_SIZE, shuffle=True, num_workers=2)\n"
      ]
    },
    {
      "cell_type": "code",
      "execution_count": null,
      "id": "a8c209f0",
      "metadata": {
        "id": "a8c209f0"
      },
      "outputs": [],
      "source": [
        "# Model definitions\n",
        "class Generator(nn.Module):\n",
        "    def __init__(self, z_dim, embed_dim, img_channels=3):\n",
        "        super().__init__()\n",
        "        self.fc = nn.Linear(z_dim + embed_dim, 8*8*512)\n",
        "        self.gen = nn.Sequential(\n",
        "            nn.BatchNorm2d(512),\n",
        "            nn.ConvTranspose2d(512, 256, 4, 2, 1), nn.ReLU(True),\n",
        "            nn.ConvTranspose2d(256, 128, 4, 2, 1), nn.ReLU(True),\n",
        "            nn.ConvTranspose2d(128, 64, 4, 2, 1), nn.ReLU(True),\n",
        "            nn.ConvTranspose2d(64, img_channels, 4, 2, 1), nn.Tanh()\n",
        "        )\n",
        "    def forward(self, noise, embed):\n",
        "        x = torch.cat([noise, embed], 1)\n",
        "        x = self.fc(x).view(-1, 512, 8, 8)\n",
        "        return self.gen(x)\n",
        "\n",
        "class Discriminator(nn.Module):\n",
        "    def __init__(self, embed_dim, img_channels=3):\n",
        "        super().__init__()\n",
        "        self.conv = nn.Sequential(\n",
        "            nn.Conv2d(img_channels, 64, 4, 2, 1), nn.LeakyReLU(0.2, inplace=True),\n",
        "            nn.Conv2d(64, 128, 4, 2, 1), nn.BatchNorm2d(128), nn.LeakyReLU(0.2, inplace=True),\n",
        "            nn.Conv2d(128, 256, 4, 2, 1), nn.BatchNorm2d(256), nn.LeakyReLU(0.2, inplace=True),\n",
        "            nn.Conv2d(256, 512, 4, 2, 1), nn.BatchNorm2d(512), nn.LeakyReLU(0.2, inplace=True),\n",
        "        )\n",
        "        self.fc = nn.Linear(512*4*4 + embed_dim, 1)\n",
        "\n",
        "    def forward(self, img, embed):\n",
        "        x = self.conv(img).view(img.size(0), -1)\n",
        "        x = torch.cat([x, embed], 1)\n",
        "        return torch.sigmoid(self.fc(x))\n"
      ]
    },
    {
      "cell_type": "code",
      "execution_count": null,
      "id": "56ca4473",
      "metadata": {
        "id": "56ca4473"
      },
      "outputs": [],
      "source": [
        "# Training loop\n",
        "gen = Generator(Z_DIM, EMBED_DIM).to(device)\n",
        "disc = Discriminator(EMBED_DIM).to(device)\n",
        "criterion = nn.BCELoss()\n",
        "opt_gen = optim.Adam(gen.parameters(), lr=LR, betas=(0.5, 0.999))\n",
        "opt_disc = optim.Adam(disc.parameters(), lr=LR, betas=(0.5, 0.999))\n",
        "\n",
        "for epoch in range(EPOCHS):\n",
        "    for embeds, imgs in tqdm(loader, desc=f\"Epoch {epoch+1}/{EPOCHS}\"):\n",
        "        embeds, imgs = embeds.to(device), imgs.to(device)\n",
        "        bs = imgs.size(0)\n",
        "        noise = torch.randn(bs, Z_DIM, device=device)\n",
        "        fake_imgs = gen(noise, embeds)\n",
        "\n",
        "        # Train Discriminator\n",
        "        real_loss = criterion(disc(imgs, embeds), torch.ones(bs, 1, device=device))\n",
        "        fake_loss = criterion(disc(fake_imgs.detach(), embeds), torch.zeros(bs, 1, device=device))\n",
        "        d_loss = (real_loss + fake_loss) / 2\n",
        "        opt_disc.zero_grad(); d_loss.backward(); opt_disc.step()\n",
        "\n",
        "        # Train Generator\n",
        "        g_loss = criterion(disc(fake_imgs, embeds), torch.ones(bs, 1, device=device))\n",
        "        opt_gen.zero_grad(); g_loss.backward(); opt_gen.step()\n",
        "\n",
        "    print(f\"Epoch [{epoch+1}/{EPOCHS}]  D_loss: {d_loss.item():.4f}  G_loss: {g_loss.item():.4f}\")\n",
        "    save_image(fake_imgs[:16]*0.5+0.5, f\"gen_samples_epoch{epoch+1}.png\")\n"
      ]
    },
    {
      "cell_type": "code",
      "execution_count": null,
      "id": "3d36e27d",
      "metadata": {
        "id": "3d36e27d"
      },
      "outputs": [],
      "source": [
        "# Evaluation: FID & Inception Score\n",
        "from torchmetrics.image.fid import FrechetInceptionDistance\n",
        "from torchmetrics.image.inception import InceptionScore\n",
        "\n",
        "fid = FrechetInceptionDistance(normalize=True).to(device)\n",
        "is_metric = InceptionScore().to(device)\n",
        "\n",
        "real_images, fake_images = next(iter(loader))[1].to(device), fake_imgs.to(device)\n",
        "fid.update(real_images, real=True)\n",
        "fid.update(fake_images, real=False)\n",
        "print(\"FID:\", fid.compute().item())\n",
        "\n",
        "is_score = is_metric(fake_images)\n",
        "print(\"Inception Score:\", is_score[0].item(), \"+/-\", is_score[1].item())\n"
      ]
    }
  ],
  "metadata": {
    "colab": {
      "provenance": []
    }
  },
  "nbformat": 4,
  "nbformat_minor": 5
}
