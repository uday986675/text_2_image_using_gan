{
  "cells": [
    {
      "cell_type": "markdown",
      "source": [
        "# Internship: Text-to-Image GAN (Minimal Demo)\n",
        "This notebook trains a small conditional GAN using synthetic shape captions."
      ]
    },
    {
      "cell_type": "code",
      "source": [
        "from src.dataset import ShapesDataset\n",
        "from src.models import Generator, Discriminator, SimpleTextEmbed\n",
        "import torch, random\n",
        "from torch.utils.data import DataLoader\n",
        "from torchvision.utils import save_image\n",
        "\n",
        "dataset = ShapesDataset(500)\n",
        "vocab = sorted(list(set(sum([c.split() for _,c in dataset],[]))))\n",
        "text_embed = SimpleTextEmbed(vocab)\n",
        "G, D = Generator(), Discriminator()\n",
        "print('Pipeline ready. Run training as shown in main code.')"
      ]
    }
  ],
  "metadata": {
    "kernelspec": {
      "name": "python3",
      "language": "python",
      "display_name": "Python 3"
    }
  },
  "nbformat": 4,
  "nbformat_minor": 5
}